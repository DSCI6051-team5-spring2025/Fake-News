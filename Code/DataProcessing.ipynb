{
  "cells": [
    {
      "cell_type": "markdown",
      "metadata": {
        "id": "JMtoNulv8Isv"
      },
      "source": [
        "# Loading the data and pre process"
      ]
    },
    {
      "cell_type": "code",
      "execution_count": 1,
      "metadata": {
        "colab": {
          "base_uri": "https://localhost:8080/"
        },
        "id": "Qw3QqKI6_GdW",
        "outputId": "e96dab66-e6d9-4e3b-ed93-629492f2ea68"
      },
      "outputs": [
        {
          "name": "stdout",
          "output_type": "stream",
          "text": [
            "<class 'pandas.core.frame.DataFrame'>\n",
            "RangeIndex: 779 entries, 0 to 778\n",
            "Data columns (total 8 columns):\n",
            " #   Column           Non-Null Count  Dtype \n",
            "---  ------           --------------  ----- \n",
            " 0   title            779 non-null    object\n",
            " 1   image            506 non-null    object\n",
            " 2   published        779 non-null    object\n",
            " 3   description      775 non-null    object\n",
            " 4   category         779 non-null    object\n",
            " 5   author           762 non-null    object\n",
            " 6   image_relation   779 non-null    object\n",
            " 7   fake_news_label  779 non-null    object\n",
            "dtypes: object(8)\n",
            "memory usage: 48.8+ KB\n",
            "None\n",
            "                                               title  \\\n",
            "0  Social Security head replaced after clash with...   \n",
            "1  Richard Linklater and Ethan Hawke Tease New Mo...   \n",
            "2  Northpoint Commercial Finance Partners with Ya...   \n",
            "3  Institutions Can Earn Bitcoin Yield With lstBT...   \n",
            "4  Your 10-Step Guide to Buying a Home, From Star...   \n",
            "\n",
            "                                               image  \\\n",
            "0  https://s.yimg.com/ny/api/res/1.2/NpP.f1PQfst9...   \n",
            "1  https://variety.com/wp-content/uploads/2025/02...   \n",
            "2                                                NaN   \n",
            "3  https://cdn.benzinga.com/files/images/story/20...   \n",
            "4  https://www.cnet.com/a/img/resize/769d3b87e85c...   \n",
            "\n",
            "                   published  \\\n",
            "0  2025-02-18 17:47:30 +0000   \n",
            "1  2025-02-18 17:19:25 +0000   \n",
            "2  2025-02-18 17:07:00 +0000   \n",
            "3  2025-02-18 17:02:27 +0000   \n",
            "4  2025-02-18 17:00:00 +0000   \n",
            "\n",
            "                                         description           category  \\\n",
            "0  The acting Social Security Administration comm...        ['general']   \n",
            "1  Before premiering 'Blue Moon' at Berlin Film F...  ['entertainment']   \n",
            "2  Northpoint Commercial Finance Partners with Ya...        ['finance']   \n",
            "3  Maple Finance, BitGo, Copper, and Hex Trust te...        ['finance']   \n",
            "4  Buying a home is a multistep process. Before a...     ['technology']   \n",
            "\n",
            "           author image_relation fake_news_label  \n",
            "0   Yahoo Finance            Yes            Real  \n",
            "1   Ellise Shafer            Yes            Real  \n",
            "2      PRNewswire            Yes            Real  \n",
            "3   Khyathi Dalal             No            Real  \n",
            "4  Katherine Watt            Yes            Real  \n"
          ]
        }
      ],
      "source": [
        "import pandas as pd\n",
        "\n",
        "# Load the dataset (Ensure the correct path)\n",
        "df = pd.read_csv(\"Raw_labeled_with_gemini.csv\")\n",
        "\n",
        "# Display basic info\n",
        "print(df.info())\n",
        "print(df.head())\n"
      ]
    },
    {
      "cell_type": "code",
      "execution_count": 2,
      "metadata": {
        "colab": {
          "base_uri": "https://localhost:8080/"
        },
        "id": "A1f-THHs_O7j",
        "outputId": "549b8761-5b71-473d-c8a4-036c56e20d74"
      },
      "outputs": [
        {
          "name": "stdout",
          "output_type": "stream",
          "text": [
            "✅ Preprocessing complete! Cleaned data saved as 'cleaned_news_data.csv'\n"
          ]
        },
        {
          "name": "stderr",
          "output_type": "stream",
          "text": [
            "<ipython-input-2-6be059917ab1>:5: FutureWarning: A value is trying to be set on a copy of a DataFrame or Series through chained assignment using an inplace method.\n",
            "The behavior will change in pandas 3.0. This inplace method will never work because the intermediate object on which we are setting values always behaves as a copy.\n",
            "\n",
            "For example, when doing 'df[col].method(value, inplace=True)', try using 'df.method({col: value}, inplace=True)' or df[col] = df[col].method(value) instead, to perform the operation inplace on the original object.\n",
            "\n",
            "\n",
            "  df[\"image\"].fillna(\"Unknown\", inplace=True)\n",
            "<ipython-input-2-6be059917ab1>:6: FutureWarning: A value is trying to be set on a copy of a DataFrame or Series through chained assignment using an inplace method.\n",
            "The behavior will change in pandas 3.0. This inplace method will never work because the intermediate object on which we are setting values always behaves as a copy.\n",
            "\n",
            "For example, when doing 'df[col].method(value, inplace=True)', try using 'df.method({col: value}, inplace=True)' or df[col] = df[col].method(value) instead, to perform the operation inplace on the original object.\n",
            "\n",
            "\n",
            "  df[\"author\"].fillna(\"Unknown\", inplace=True)\n",
            "<ipython-input-2-6be059917ab1>:7: FutureWarning: A value is trying to be set on a copy of a DataFrame or Series through chained assignment using an inplace method.\n",
            "The behavior will change in pandas 3.0. This inplace method will never work because the intermediate object on which we are setting values always behaves as a copy.\n",
            "\n",
            "For example, when doing 'df[col].method(value, inplace=True)', try using 'df.method({col: value}, inplace=True)' or df[col] = df[col].method(value) instead, to perform the operation inplace on the original object.\n",
            "\n",
            "\n",
            "  df[\"description\"].fillna(\"No description available\", inplace=True)\n"
          ]
        }
      ],
      "source": [
        "\n",
        "# Standardize column names\n",
        "df.columns = df.columns.str.strip().str.lower()\n",
        "\n",
        "# Fill missing values\n",
        "df[\"image\"].fillna(\"Unknown\", inplace=True)\n",
        "df[\"author\"].fillna(\"Unknown\", inplace=True)\n",
        "df[\"description\"].fillna(\"No description available\", inplace=True)\n",
        "\n",
        "# Fix category format (Convert ['category'] → category)\n",
        "df[\"category\"] = df[\"category\"].str.replace(r\"[\\[\\]']\", \"\", regex=True)\n",
        "\n",
        "# Convert 'published' column to datetime format\n",
        "df[\"published\"] = pd.to_datetime(df[\"published\"], errors=\"coerce\")\n",
        "\n",
        "# Remove duplicates\n",
        "df.drop_duplicates(inplace=True)\n",
        "\n",
        "# Save the cleaned dataset\n",
        "df.to_csv(\"cleaned_news_data.csv\", index=False)\n",
        "\n",
        "print(\"✅ Preprocessing complete! Cleaned data saved as 'cleaned_news_data.csv'\")\n"
      ]
    },
    {
      "cell_type": "code",
      "execution_count": null,
      "metadata": {
        "id": "VzwDLdenAQRw"
      },
      "outputs": [],
      "source": [
        "import os\n",
        "import re\n",
        "import pandas as pd\n",
        "import torch\n",
        "import torchvision.transforms as transforms\n",
        "from PIL import Image\n",
        "from sklearn.model_selection import train_test_split\n",
        "from transformers import BertTokenizer\n",
        "\n",
        "# Load dataset\n",
        "file_path = r'C:\\Users\\rajar\\OneDrive\\Desktop\\New folder\\Fake-News\\All_Data\\Cleaned_news_final1.csv'\n",
        "df = pd.read_csv(file_path)\n",
        "\n",
        "# Manual stopwords list\n",
        "manual_stopwords = set([\n",
        "    \"a\", \"an\", \"and\", \"are\", \"as\", \"at\", \"be\", \"but\", \"by\", \"for\", \"if\", \"in\", \"into\", \"is\", \n",
        "    \"it\", \"no\", \"not\", \"of\", \"on\", \"or\", \"such\", \"that\", \"the\", \"their\", \"then\", \"there\", \n",
        "    \"these\", \"they\", \"this\", \"to\", \"was\", \"will\", \"with\", \"we\", \"you\", \"your\"\n",
        "])\n",
        "\n",
        "# Function to preprocess text\n",
        "def preprocess_text(text):\n",
        "    text = text.lower()\n",
        "    text = re.sub(r'\\W', ' ', text)\n",
        "    text = re.sub(r'\\s+', ' ', text)\n",
        "    text = ' '.join([word for word in text.split() if word not in manual_stopwords])\n",
        "    return text\n",
        "\n",
        "# Apply text preprocessing\n",
        "df['cleaned_title'] = df['title'].apply(preprocess_text)\n",
        "df['cleaned_description'] = df['description'].apply(preprocess_text)\n",
        "\n",
        "# Tokenize text using BERT\n",
        "tokenizer = BertTokenizer.from_pretrained('bert-base-uncased')\n",
        "df['tokenized_text'] = df['cleaned_description'].apply(lambda x: tokenizer(x, padding='max_length', truncation=True, max_length=512, return_tensors='pt'))\n",
        "\n",
        "# Define image transformation pipeline\n",
        "image_transform = transforms.Compose([\n",
        "    transforms.Resize((224, 224)),\n",
        "    transforms.ToTensor(),\n",
        "    transforms.Normalize(mean=[0.485, 0.456, 0.406], std=[0.229, 0.224, 0.225])\n",
        "])\n",
        "\n",
        "# Define image directory path\n",
        "IMAGE_DIR = r\"C:\\Users\\rajar\\Projects\\Fake-News\\Fake-News\\Images\" \n",
        "\n",
        "# Function to load and preprocess images\n",
        "def load_and_preprocess_image(image_filename):\n",
        "    image_path = os.path.join(IMAGE_DIR, image_filename)  # Construct full path\n",
        "    if os.path.exists(image_path):\n",
        "        image = Image.open(image_path).convert(\"RGB\")\n",
        "        return image_transform(image)\n",
        "    return None\n",
        "\n",
        "# Apply image preprocessing\n",
        "df['processed_image'] = df['image_location'].apply(lambda x: load_and_preprocess_image(x) if isinstance(x, str) else None)\n",
        "\n",
        "# Split data into train and test sets\n",
        "train_df, test_df = train_test_split(df, test_size=0.2, random_state=42)\n",
        "\n",
        "print(\"Data processing complete!\")\n"
      ]
    }
  ],
  "metadata": {
    "colab": {
      "provenance": []
    },
    "kernelspec": {
      "display_name": "Python 3",
      "name": "python3"
    },
    "language_info": {
      "name": "python"
    }
  },
  "nbformat": 4,
  "nbformat_minor": 0
}
