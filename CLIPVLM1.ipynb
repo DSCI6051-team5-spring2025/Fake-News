{
  "nbformat": 4,
  "nbformat_minor": 0,
  "metadata": {
    "colab": {
      "provenance": [],
      "machine_shape": "hm",
      "gpuType": "T4"
    },
    "kernelspec": {
      "name": "python3",
      "display_name": "Python 3"
    },
    "language_info": {
      "name": "python"
    },
    "accelerator": "GPU",
    "widgets": {
      "application/vnd.jupyter.widget-state+json": {
        "104c973e9752438e827f49dd561513da": {
          "model_module": "@jupyter-widgets/controls",
          "model_name": "HBoxModel",
          "model_module_version": "1.5.0",
          "state": {
            "_dom_classes": [],
            "_model_module": "@jupyter-widgets/controls",
            "_model_module_version": "1.5.0",
            "_model_name": "HBoxModel",
            "_view_count": null,
            "_view_module": "@jupyter-widgets/controls",
            "_view_module_version": "1.5.0",
            "_view_name": "HBoxView",
            "box_style": "",
            "children": [
              "IPY_MODEL_1122fae93a744b39afa4012f365927ea",
              "IPY_MODEL_414ac3ee390d4868941de19e4b6af238",
              "IPY_MODEL_df57bb20f51f47b297eb7c1d12b3617c"
            ],
            "layout": "IPY_MODEL_a9984685699d47b69ae1815c0c971a3e"
          }
        },
        "1122fae93a744b39afa4012f365927ea": {
          "model_module": "@jupyter-widgets/controls",
          "model_name": "HTMLModel",
          "model_module_version": "1.5.0",
          "state": {
            "_dom_classes": [],
            "_model_module": "@jupyter-widgets/controls",
            "_model_module_version": "1.5.0",
            "_model_name": "HTMLModel",
            "_view_count": null,
            "_view_module": "@jupyter-widgets/controls",
            "_view_module_version": "1.5.0",
            "_view_name": "HTMLView",
            "description": "",
            "description_tooltip": null,
            "layout": "IPY_MODEL_26b99e08d2444b68a1647506d89ddc62",
            "placeholder": "​",
            "style": "IPY_MODEL_b10161d2929643e59e433c4ded01e3f1",
            "value": "model.safetensors: 100%"
          }
        },
        "414ac3ee390d4868941de19e4b6af238": {
          "model_module": "@jupyter-widgets/controls",
          "model_name": "FloatProgressModel",
          "model_module_version": "1.5.0",
          "state": {
            "_dom_classes": [],
            "_model_module": "@jupyter-widgets/controls",
            "_model_module_version": "1.5.0",
            "_model_name": "FloatProgressModel",
            "_view_count": null,
            "_view_module": "@jupyter-widgets/controls",
            "_view_module_version": "1.5.0",
            "_view_name": "ProgressView",
            "bar_style": "success",
            "description": "",
            "description_tooltip": null,
            "layout": "IPY_MODEL_53e62581fd6146deb0b4b520e47eb8eb",
            "max": 605157884,
            "min": 0,
            "orientation": "horizontal",
            "style": "IPY_MODEL_d5f2a3df93674260b3022208e28555b8",
            "value": 605157884
          }
        },
        "df57bb20f51f47b297eb7c1d12b3617c": {
          "model_module": "@jupyter-widgets/controls",
          "model_name": "HTMLModel",
          "model_module_version": "1.5.0",
          "state": {
            "_dom_classes": [],
            "_model_module": "@jupyter-widgets/controls",
            "_model_module_version": "1.5.0",
            "_model_name": "HTMLModel",
            "_view_count": null,
            "_view_module": "@jupyter-widgets/controls",
            "_view_module_version": "1.5.0",
            "_view_name": "HTMLView",
            "description": "",
            "description_tooltip": null,
            "layout": "IPY_MODEL_0f2830a2c98c47d5a580d2fa62138fa1",
            "placeholder": "​",
            "style": "IPY_MODEL_e467f3bcfdb9492c9f2889d2d0c1d17e",
            "value": " 605M/605M [00:01&lt;00:00, 554MB/s]"
          }
        },
        "a9984685699d47b69ae1815c0c971a3e": {
          "model_module": "@jupyter-widgets/base",
          "model_name": "LayoutModel",
          "model_module_version": "1.2.0",
          "state": {
            "_model_module": "@jupyter-widgets/base",
            "_model_module_version": "1.2.0",
            "_model_name": "LayoutModel",
            "_view_count": null,
            "_view_module": "@jupyter-widgets/base",
            "_view_module_version": "1.2.0",
            "_view_name": "LayoutView",
            "align_content": null,
            "align_items": null,
            "align_self": null,
            "border": null,
            "bottom": null,
            "display": null,
            "flex": null,
            "flex_flow": null,
            "grid_area": null,
            "grid_auto_columns": null,
            "grid_auto_flow": null,
            "grid_auto_rows": null,
            "grid_column": null,
            "grid_gap": null,
            "grid_row": null,
            "grid_template_areas": null,
            "grid_template_columns": null,
            "grid_template_rows": null,
            "height": null,
            "justify_content": null,
            "justify_items": null,
            "left": null,
            "margin": null,
            "max_height": null,
            "max_width": null,
            "min_height": null,
            "min_width": null,
            "object_fit": null,
            "object_position": null,
            "order": null,
            "overflow": null,
            "overflow_x": null,
            "overflow_y": null,
            "padding": null,
            "right": null,
            "top": null,
            "visibility": null,
            "width": null
          }
        },
        "26b99e08d2444b68a1647506d89ddc62": {
          "model_module": "@jupyter-widgets/base",
          "model_name": "LayoutModel",
          "model_module_version": "1.2.0",
          "state": {
            "_model_module": "@jupyter-widgets/base",
            "_model_module_version": "1.2.0",
            "_model_name": "LayoutModel",
            "_view_count": null,
            "_view_module": "@jupyter-widgets/base",
            "_view_module_version": "1.2.0",
            "_view_name": "LayoutView",
            "align_content": null,
            "align_items": null,
            "align_self": null,
            "border": null,
            "bottom": null,
            "display": null,
            "flex": null,
            "flex_flow": null,
            "grid_area": null,
            "grid_auto_columns": null,
            "grid_auto_flow": null,
            "grid_auto_rows": null,
            "grid_column": null,
            "grid_gap": null,
            "grid_row": null,
            "grid_template_areas": null,
            "grid_template_columns": null,
            "grid_template_rows": null,
            "height": null,
            "justify_content": null,
            "justify_items": null,
            "left": null,
            "margin": null,
            "max_height": null,
            "max_width": null,
            "min_height": null,
            "min_width": null,
            "object_fit": null,
            "object_position": null,
            "order": null,
            "overflow": null,
            "overflow_x": null,
            "overflow_y": null,
            "padding": null,
            "right": null,
            "top": null,
            "visibility": null,
            "width": null
          }
        },
        "b10161d2929643e59e433c4ded01e3f1": {
          "model_module": "@jupyter-widgets/controls",
          "model_name": "DescriptionStyleModel",
          "model_module_version": "1.5.0",
          "state": {
            "_model_module": "@jupyter-widgets/controls",
            "_model_module_version": "1.5.0",
            "_model_name": "DescriptionStyleModel",
            "_view_count": null,
            "_view_module": "@jupyter-widgets/base",
            "_view_module_version": "1.2.0",
            "_view_name": "StyleView",
            "description_width": ""
          }
        },
        "53e62581fd6146deb0b4b520e47eb8eb": {
          "model_module": "@jupyter-widgets/base",
          "model_name": "LayoutModel",
          "model_module_version": "1.2.0",
          "state": {
            "_model_module": "@jupyter-widgets/base",
            "_model_module_version": "1.2.0",
            "_model_name": "LayoutModel",
            "_view_count": null,
            "_view_module": "@jupyter-widgets/base",
            "_view_module_version": "1.2.0",
            "_view_name": "LayoutView",
            "align_content": null,
            "align_items": null,
            "align_self": null,
            "border": null,
            "bottom": null,
            "display": null,
            "flex": null,
            "flex_flow": null,
            "grid_area": null,
            "grid_auto_columns": null,
            "grid_auto_flow": null,
            "grid_auto_rows": null,
            "grid_column": null,
            "grid_gap": null,
            "grid_row": null,
            "grid_template_areas": null,
            "grid_template_columns": null,
            "grid_template_rows": null,
            "height": null,
            "justify_content": null,
            "justify_items": null,
            "left": null,
            "margin": null,
            "max_height": null,
            "max_width": null,
            "min_height": null,
            "min_width": null,
            "object_fit": null,
            "object_position": null,
            "order": null,
            "overflow": null,
            "overflow_x": null,
            "overflow_y": null,
            "padding": null,
            "right": null,
            "top": null,
            "visibility": null,
            "width": null
          }
        },
        "d5f2a3df93674260b3022208e28555b8": {
          "model_module": "@jupyter-widgets/controls",
          "model_name": "ProgressStyleModel",
          "model_module_version": "1.5.0",
          "state": {
            "_model_module": "@jupyter-widgets/controls",
            "_model_module_version": "1.5.0",
            "_model_name": "ProgressStyleModel",
            "_view_count": null,
            "_view_module": "@jupyter-widgets/base",
            "_view_module_version": "1.2.0",
            "_view_name": "StyleView",
            "bar_color": null,
            "description_width": ""
          }
        },
        "0f2830a2c98c47d5a580d2fa62138fa1": {
          "model_module": "@jupyter-widgets/base",
          "model_name": "LayoutModel",
          "model_module_version": "1.2.0",
          "state": {
            "_model_module": "@jupyter-widgets/base",
            "_model_module_version": "1.2.0",
            "_model_name": "LayoutModel",
            "_view_count": null,
            "_view_module": "@jupyter-widgets/base",
            "_view_module_version": "1.2.0",
            "_view_name": "LayoutView",
            "align_content": null,
            "align_items": null,
            "align_self": null,
            "border": null,
            "bottom": null,
            "display": null,
            "flex": null,
            "flex_flow": null,
            "grid_area": null,
            "grid_auto_columns": null,
            "grid_auto_flow": null,
            "grid_auto_rows": null,
            "grid_column": null,
            "grid_gap": null,
            "grid_row": null,
            "grid_template_areas": null,
            "grid_template_columns": null,
            "grid_template_rows": null,
            "height": null,
            "justify_content": null,
            "justify_items": null,
            "left": null,
            "margin": null,
            "max_height": null,
            "max_width": null,
            "min_height": null,
            "min_width": null,
            "object_fit": null,
            "object_position": null,
            "order": null,
            "overflow": null,
            "overflow_x": null,
            "overflow_y": null,
            "padding": null,
            "right": null,
            "top": null,
            "visibility": null,
            "width": null
          }
        },
        "e467f3bcfdb9492c9f2889d2d0c1d17e": {
          "model_module": "@jupyter-widgets/controls",
          "model_name": "DescriptionStyleModel",
          "model_module_version": "1.5.0",
          "state": {
            "_model_module": "@jupyter-widgets/controls",
            "_model_module_version": "1.5.0",
            "_model_name": "DescriptionStyleModel",
            "_view_count": null,
            "_view_module": "@jupyter-widgets/base",
            "_view_module_version": "1.2.0",
            "_view_name": "StyleView",
            "description_width": ""
          }
        }
      }
    }
  },
  "cells": [
    {
      "cell_type": "code",
      "source": [
        "import os\n",
        "import pandas as pd\n",
        "import numpy as np\n",
        "import torch\n",
        "from torch.utils.data import Dataset, DataLoader\n",
        "from sklearn.model_selection import train_test_split\n",
        "from sklearn.metrics import accuracy_score, precision_score, recall_score, f1_score, confusion_matrix, classification_report\n",
        "import requests\n",
        "from PIL import Image\n",
        "from io import BytesIO\n",
        "from transformers import CLIPProcessor, CLIPModel\n",
        "import matplotlib.pyplot as plt\n",
        "from tqdm import tqdm\n",
        "import torch.nn as nn\n",
        "\n",
        "# ==============================\n",
        "# Load and Preprocess Dataset\n",
        "# ==============================\n",
        "\n",
        "# Load dataset from CSV\n",
        "data_str = \"/content/politifact_articles_with_images (1).csv\"\n",
        "\n",
        "def load_dataset(file_path):\n",
        "    \"\"\"Load dataset from CSV or Excel.\"\"\"\n",
        "    if file_path.endswith('.csv'):\n",
        "        df = pd.read_csv(file_path)\n",
        "    elif file_path.endswith('.xlsx'):\n",
        "        df = pd.read_excel(file_path)\n",
        "    else:\n",
        "        raise ValueError(\"Unsupported file format. Use CSV or Excel.\")\n",
        "\n",
        "    return df\n",
        "\n",
        "# Preprocess the dataset\n",
        "def preprocess_dataset(df):\n",
        "    \"\"\"Clean and map ratings to labels.\"\"\"\n",
        "    if 'Claim' in df.columns:\n",
        "        df['Claim'] = df['Claim'].str.replace('â€œ', '\"').str.replace('â€', '\"')\n",
        "\n",
        "    rating_map = {\n",
        "        'TRUE': 1,\n",
        "        'MOSTLY TRUE': 0.75,\n",
        "        'HALF TRUE': 0.5,\n",
        "        'MOSTLY FALSE': 0.25,\n",
        "        'FALSE': 0,\n",
        "        'PANTS ON FIRE': 0\n",
        "    }\n",
        "\n",
        "    if 'Rating' in df.columns:\n",
        "        df['Rating_numeric'] = df['Rating'].map(rating_map)\n",
        "        df['Label'] = df['Rating'].apply(lambda x: 1 if x in ['TRUE', 'MOSTLY TRUE'] else 0)\n",
        "\n",
        "    return df\n",
        "\n",
        "# Download images\n",
        "def download_images(df, image_dir='./images'):\n",
        "    \"\"\"Download images from URLs and save them locally.\"\"\"\n",
        "    os.makedirs(image_dir, exist_ok=True)\n",
        "    image_paths = []\n",
        "\n",
        "    for idx, row in tqdm(df.iterrows(), total=len(df), desc=\"Downloading images\"):\n",
        "        image_url = row.get('Image URL', None)\n",
        "\n",
        "        if pd.isna(image_url) or image_url is None or image_url == 'N/A' or image_url == 'nan':\n",
        "            image_paths.append(None)\n",
        "            continue\n",
        "\n",
        "        try:\n",
        "            image_filename = f\"{idx}.jpg\"\n",
        "            image_path = os.path.join(image_dir, image_filename)\n",
        "\n",
        "            if not os.path.exists(image_path):\n",
        "                response = requests.get(image_url)\n",
        "                img = Image.open(BytesIO(response.content))\n",
        "                img.save(image_path)\n",
        "\n",
        "            image_paths.append(image_path)\n",
        "        except Exception as e:\n",
        "            print(f\"Error downloading image {image_url}: {e}\")\n",
        "            image_paths.append(None)\n",
        "\n",
        "    df['local_image_path'] = image_paths\n",
        "    return df\n",
        "\n",
        "\n",
        "# ==============================\n",
        "# CLIP Classifier\n",
        "# ==============================\n",
        "\n",
        "class CLIPClassifier(nn.Module):\n",
        "    def __init__(self, clip_model_name=\"openai/clip-vit-base-patch32\", num_classes=2):\n",
        "        super(CLIPClassifier, self).__init__()\n",
        "        self.clip = CLIPModel.from_pretrained(clip_model_name)\n",
        "\n",
        "        # Freeze CLIP parameters\n",
        "        for param in self.clip.parameters():\n",
        "            param.requires_grad = False\n",
        "\n",
        "        hidden_size = self.clip.config.projection_dim\n",
        "\n",
        "        # Classification head\n",
        "        self.classifier = nn.Sequential(\n",
        "            nn.Linear(hidden_size, 512),\n",
        "            nn.ReLU(),\n",
        "            nn.Dropout(0.1),\n",
        "            nn.Linear(512, num_classes)\n",
        "        )\n",
        "\n",
        "    def forward(self, input_ids=None, attention_mask=None, pixel_values=None, return_loss=False, labels=None):\n",
        "        outputs = self.clip(input_ids=input_ids, attention_mask=attention_mask, pixel_values=pixel_values)\n",
        "\n",
        "        text_embeds = outputs.text_embeds\n",
        "        logits = self.classifier(text_embeds)\n",
        "\n",
        "        loss = None\n",
        "        if return_loss and labels is not None:\n",
        "            loss_fct = nn.CrossEntropyLoss()\n",
        "            loss = loss_fct(logits, labels)\n",
        "\n",
        "        return logits, loss\n",
        "\n",
        "\n",
        "# ==============================\n",
        "# PyTorch Dataset\n",
        "# ==============================\n",
        "\n",
        "class FakeNewsDataset(Dataset):\n",
        "    def __init__(self, dataframe, processor, text_column='Claim', label_column='Label', image_column='local_image_path'):\n",
        "        self.dataframe = dataframe\n",
        "        self.processor = processor\n",
        "        self.text_column = text_column\n",
        "        self.label_column = label_column\n",
        "        self.image_column = image_column\n",
        "\n",
        "    def __len__(self):\n",
        "        return len(self.dataframe)\n",
        "\n",
        "    def __getitem__(self, idx):\n",
        "        row = self.dataframe.iloc[idx]\n",
        "\n",
        "        text = row[self.text_column]\n",
        "        label = row[self.label_column]\n",
        "        image_path = row[self.image_column]\n",
        "\n",
        "        if pd.isna(image_path) or image_path is None:\n",
        "            image = Image.new('RGB', (224, 224), color='white')\n",
        "        else:\n",
        "            try:\n",
        "                image = Image.open(image_path).convert('RGB')\n",
        "            except:\n",
        "                image = Image.new('RGB', (224, 224), color='white')\n",
        "\n",
        "        inputs = self.processor(\n",
        "            text=text,\n",
        "            images=image,\n",
        "            return_tensors=\"pt\",\n",
        "            padding=\"max_length\",\n",
        "            truncation=True,\n",
        "            max_length=77\n",
        "        )\n",
        "\n",
        "        inputs = {k: v.squeeze(0) for k, v in inputs.items()}\n",
        "        inputs['labels'] = torch.tensor(label, dtype=torch.long)\n",
        "\n",
        "        return inputs\n",
        "\n",
        "\n",
        "# ==============================\n",
        "# Model Training\n",
        "# ==============================\n",
        "\n",
        "def train_vlm(model, train_loader, val_loader, device, num_epochs=3, learning_rate=5e-5):\n",
        "    model.to(device)\n",
        "    optimizer = torch.optim.AdamW(model.parameters(), lr=learning_rate)\n",
        "    criterion = nn.CrossEntropyLoss()\n",
        "\n",
        "    training_stats = {'train_loss': [], 'val_loss': [], 'val_acc': []}\n",
        "\n",
        "    for epoch in range(num_epochs):\n",
        "        model.train()\n",
        "        total_train_loss = 0\n",
        "\n",
        "        for batch in tqdm(train_loader, desc=f\"Epoch {epoch+1}/{num_epochs} - Training\"):\n",
        "            batch = {k: v.to(device) for k, v in batch.items()}\n",
        "            labels = batch.pop('labels')\n",
        "\n",
        "            logits, _ = model(**batch, return_loss=False)\n",
        "            loss = criterion(logits, labels)\n",
        "\n",
        "            optimizer.zero_grad()\n",
        "            loss.backward()\n",
        "            optimizer.step()\n",
        "\n",
        "            total_train_loss += loss.item()\n",
        "\n",
        "        avg_train_loss = total_train_loss / len(train_loader)\n",
        "        training_stats['train_loss'].append(avg_train_loss)\n",
        "\n",
        "        model.eval()\n",
        "        total_val_loss = 0\n",
        "        all_preds, all_labels = [], []\n",
        "\n",
        "        with torch.no_grad():\n",
        "            for batch in tqdm(val_loader, desc=f\"Epoch {epoch+1}/{num_epochs} - Validation\"):\n",
        "                batch = {k: v.to(device) for k, v in batch.items()}\n",
        "                labels = batch.pop('labels')\n",
        "\n",
        "                logits, _ = model(**batch, return_loss=False)\n",
        "                loss = criterion(logits, labels)\n",
        "\n",
        "                total_val_loss += loss.item()\n",
        "                preds = torch.argmax(logits, dim=1)\n",
        "\n",
        "                all_preds.extend(preds.cpu().numpy())\n",
        "                all_labels.extend(labels.cpu().numpy())\n",
        "\n",
        "        avg_val_loss = total_val_loss / len(val_loader)\n",
        "        val_acc = accuracy_score(all_labels, all_preds)\n",
        "\n",
        "        training_stats['val_loss'].append(avg_val_loss)\n",
        "        training_stats['val_acc'].append(val_acc)\n",
        "\n",
        "        print(f\"Epoch {epoch+1} - Train Loss: {avg_train_loss:.4f}, Val Loss: {avg_val_loss:.4f}, Val Acc: {val_acc:.4f}\")\n",
        "\n",
        "    return model, training_stats\n",
        "\n",
        "\n",
        "# ==============================\n",
        "# Execute Workflow\n",
        "# ==============================\n",
        "\n",
        "# Load and preprocess the dataset\n",
        "df = load_dataset(data_str)\n",
        "df = preprocess_dataset(df)\n",
        "df = download_images(df)\n",
        "\n",
        "# Split dataset\n",
        "train_df, val_df = train_test_split(df, test_size=0.3, random_state=42)\n",
        "\n",
        "# Initialize the model and processor\n",
        "processor = CLIPProcessor.from_pretrained(\"openai/clip-vit-base-patch32\")\n",
        "model = CLIPClassifier()\n",
        "\n",
        "# Create datasets and loaders\n",
        "train_dataset = FakeNewsDataset(train_df, processor)\n",
        "val_dataset = FakeNewsDataset(val_df, processor)\n",
        "\n",
        "train_loader = DataLoader(train_dataset, batch_size=4, shuffle=True)\n",
        "val_loader = DataLoader(val_dataset, batch_size=4, shuffle=False)\n",
        "\n",
        "# Set device\n",
        "device = torch.device(\"cuda\" if torch.cuda.is_available() else \"cpu\")\n",
        "\n",
        "# Train the model\n",
        "model, training_stats = train_vlm(model, train_loader, val_loader, device)\n"
      ],
      "metadata": {
        "id": "pJknavbMZoCq",
        "colab": {
          "base_uri": "https://localhost:8080/",
          "height": 503,
          "referenced_widgets": [
            "7306436b6e154c0a8cc56e83274f156f",
            "9d713f9fa093424886c9d166a0b7c153",
            "8547e254089044e98c4ff808116e7108",
            "62f2513d911045e79c2b9923f0ca1214",
            "b374fb94adc64b098a16314e78cf429e",
            "820f347460604fb992f20c94fb0f631f",
            "0fddc9d88be446d28c5f73d8d19c0084",
            "06fa63a9f4f34ef595d18bc5fa28fc8f",
            "104c973e9752438e827f49dd561513da",
            "1122fae93a744b39afa4012f365927ea",
            "414ac3ee390d4868941de19e4b6af238",
            "df57bb20f51f47b297eb7c1d12b3617c",
            "a9984685699d47b69ae1815c0c971a3e",
            "26b99e08d2444b68a1647506d89ddc62",
            "b10161d2929643e59e433c4ded01e3f1",
            "53e62581fd6146deb0b4b520e47eb8eb",
            "d5f2a3df93674260b3022208e28555b8",
            "0f2830a2c98c47d5a580d2fa62138fa1",
            "e467f3bcfdb9492c9f2889d2d0c1d17e"
          ]
        },
        "outputId": "c723be37-0c4f-4513-a216-b71debef3497"
      },
      "execution_count": 6,
      "outputs": [
        {
          "metadata": {
            "tags": null
          },
          "name": "stderr",
          "output_type": "stream",
          "text": [
            "Downloading images: 100%|██████████| 3600/3600 [13:55<00:00,  4.31it/s]\n",
            "/usr/local/lib/python3.11/dist-packages/huggingface_hub/utils/_auth.py:104: UserWarning: \n",
            "Error while fetching `HF_TOKEN` secret value from your vault: 'Requesting secret HF_TOKEN timed out. Secrets can only be fetched when running from the Colab UI.'.\n",
            "You are not authenticated with the Hugging Face Hub in this notebook.\n",
            "If the error persists, please let us know by opening an issue on GitHub (https://github.com/huggingface/huggingface_hub/issues/new).\n",
            "  warnings.warn(\n"
          ]
        },
        {
          "data": {
            "application/vnd.jupyter.widget-view+json": {
              "model_id": "7306436b6e154c0a8cc56e83274f156f",
              "version_major": 2,
              "version_minor": 0
            },
            "text/plain": [
              "preprocessor_config.json:   0%|          | 0.00/316 [00:00<?, ?B/s]"
            ]
          },
          "metadata": {},
          "output_type": "display_data"
        },
        {
          "data": {
            "application/vnd.jupyter.widget-view+json": {
              "model_id": "9d713f9fa093424886c9d166a0b7c153",
              "version_major": 2,
              "version_minor": 0
            },
            "text/plain": [
              "tokenizer_config.json:   0%|          | 0.00/592 [00:00<?, ?B/s]"
            ]
          },
          "metadata": {},
          "output_type": "display_data"
        },
        {
          "data": {
            "application/vnd.jupyter.widget-view+json": {
              "model_id": "8547e254089044e98c4ff808116e7108",
              "version_major": 2,
              "version_minor": 0
            },
            "text/plain": [
              "vocab.json:   0%|          | 0.00/862k [00:00<?, ?B/s]"
            ]
          },
          "metadata": {},
          "output_type": "display_data"
        },
        {
          "data": {
            "application/vnd.jupyter.widget-view+json": {
              "model_id": "62f2513d911045e79c2b9923f0ca1214",
              "version_major": 2,
              "version_minor": 0
            },
            "text/plain": [
              "merges.txt:   0%|          | 0.00/525k [00:00<?, ?B/s]"
            ]
          },
          "metadata": {},
          "output_type": "display_data"
        },
        {
          "data": {
            "application/vnd.jupyter.widget-view+json": {
              "model_id": "b374fb94adc64b098a16314e78cf429e",
              "version_major": 2,
              "version_minor": 0
            },
            "text/plain": [
              "tokenizer.json:   0%|          | 0.00/2.22M [00:00<?, ?B/s]"
            ]
          },
          "metadata": {},
          "output_type": "display_data"
        },
        {
          "data": {
            "application/vnd.jupyter.widget-view+json": {
              "model_id": "820f347460604fb992f20c94fb0f631f",
              "version_major": 2,
              "version_minor": 0
            },
            "text/plain": [
              "special_tokens_map.json:   0%|          | 0.00/389 [00:00<?, ?B/s]"
            ]
          },
          "metadata": {},
          "output_type": "display_data"
        },
        {
          "data": {
            "application/vnd.jupyter.widget-view+json": {
              "model_id": "0fddc9d88be446d28c5f73d8d19c0084",
              "version_major": 2,
              "version_minor": 0
            },
            "text/plain": [
              "config.json:   0%|          | 0.00/4.19k [00:00<?, ?B/s]"
            ]
          },
          "metadata": {},
          "output_type": "display_data"
        },
        {
          "data": {
            "application/vnd.jupyter.widget-view+json": {
              "model_id": "06fa63a9f4f34ef595d18bc5fa28fc8f",
              "version_major": 2,
              "version_minor": 0
            },
            "text/plain": [
              "pytorch_model.bin:   0%|          | 0.00/605M [00:00<?, ?B/s]"
            ]
          },
          "metadata": {},
          "output_type": "display_data"
        },
        {
          "output_type": "stream",
          "name": "stderr",
          "text": [
            "\rEpoch 1/3 - Training:   0%|          | 0/630 [00:00<?, ?it/s]"
          ]
        },
        {
          "output_type": "display_data",
          "data": {
            "text/plain": [
              "model.safetensors:   0%|          | 0.00/605M [00:00<?, ?B/s]"
            ],
            "application/vnd.jupyter.widget-view+json": {
              "version_major": 2,
              "version_minor": 0,
              "model_id": "104c973e9752438e827f49dd561513da"
            }
          },
          "metadata": {}
        },
        {
          "output_type": "stream",
          "name": "stderr",
          "text": [
            "Epoch 1/3 - Training: 100%|██████████| 630/630 [00:40<00:00, 15.57it/s]\n",
            "Epoch 1/3 - Validation: 100%|██████████| 270/270 [00:16<00:00, 16.76it/s]\n"
          ]
        },
        {
          "output_type": "stream",
          "name": "stdout",
          "text": [
            "Epoch 1 - Train Loss: 0.3040, Val Loss: 0.0499, Val Acc: 1.0000\n"
          ]
        },
        {
          "output_type": "stream",
          "name": "stderr",
          "text": [
            "Epoch 2/3 - Training: 100%|██████████| 630/630 [00:37<00:00, 16.78it/s]\n",
            "Epoch 2/3 - Validation: 100%|██████████| 270/270 [00:16<00:00, 16.73it/s]\n"
          ]
        },
        {
          "output_type": "stream",
          "name": "stdout",
          "text": [
            "Epoch 2 - Train Loss: 0.0201, Val Loss: 0.0084, Val Acc: 1.0000\n"
          ]
        },
        {
          "output_type": "stream",
          "name": "stderr",
          "text": [
            "Epoch 3/3 - Training: 100%|██████████| 630/630 [00:37<00:00, 16.59it/s]\n",
            "Epoch 3/3 - Validation: 100%|██████████| 270/270 [00:16<00:00, 16.61it/s]"
          ]
        },
        {
          "output_type": "stream",
          "name": "stdout",
          "text": [
            "Epoch 3 - Train Loss: 0.0047, Val Loss: 0.0029, Val Acc: 1.0000\n"
          ]
        },
        {
          "output_type": "stream",
          "name": "stderr",
          "text": [
            "\n"
          ]
        }
      ]
    },
    {
      "cell_type": "code",
      "source": [
        "def predict_fake_news(model, processor, text, image_path=None, device=\"cuda\"):\n",
        "    \"\"\"\n",
        "    Predict whether a news item is fake (0) or real (1).\n",
        "\n",
        "    Args:\n",
        "        model: Trained CLIPClassifier\n",
        "        processor: CLIPProcessor\n",
        "        text: News claim (str)\n",
        "        image_path: Path to image (optional)\n",
        "        device: \"cuda\" or \"cpu\"\n",
        "    Returns:\n",
        "        dict: {\"prediction\": 0/1, \"confidence\": float, \"class\": \"Fake\"/\"Real\"}\n",
        "    \"\"\"\n",
        "    model.eval()\n",
        "    model.to(device)\n",
        "\n",
        "    # Handle missing image\n",
        "    if image_path is None or not os.path.exists(image_path):\n",
        "        image = Image.new('RGB', (224, 224), color='white')\n",
        "    else:\n",
        "        image = Image.open(image_path).convert('RGB')\n",
        "\n",
        "    # Preprocess inputs\n",
        "    inputs = processor(\n",
        "        text=text,\n",
        "        images=image,\n",
        "        return_tensors=\"pt\",\n",
        "        padding=\"max_length\",\n",
        "        truncation=True,\n",
        "        max_length=77\n",
        "    ).to(device)\n",
        "\n",
        "    # Predict\n",
        "    with torch.no_grad():\n",
        "        logits, _ = model(**inputs, return_loss=False)\n",
        "        probs = torch.softmax(logits, dim=1)\n",
        "        pred_class = torch.argmax(probs).item()\n",
        "        confidence = probs[0][pred_class].item()\n",
        "\n",
        "    return {\n",
        "        \"prediction\": pred_class,\n",
        "        \"confidence\": confidence,\n",
        "        \"class\": \"Real\" if pred_class == 1 else \"Fake\"\n",
        "    }"
      ],
      "metadata": {
        "id": "g2ig6YXS1_HN"
      },
      "execution_count": 7,
      "outputs": []
    },
    {
      "cell_type": "code",
      "source": [
        "# Example 1: Text + Image\n",
        "result = predict_fake_news(\n",
        "    model=model,\n",
        "    processor=processor,\n",
        "    text=\"Audio shows a BBC reporter making a vulgar comment about an Oval Office meeting between President Donald Trump and Ukraine President Volodymyr Zelenskyy.\",\n",
        "    image_path=\"https://static.politifact.com/img/meter-pants-fire.jpg\",  # Replace with actual path\n",
        "    device=device\n",
        ")\n",
        "print(result)\n",
        "\n",
        "result = predict_fake_news(\n",
        "    model=model,\n",
        "    processor=processor,\n",
        "    text= \"Wisconsin does not require judges to automatically recuse just because they have done some kind of legal work in the past as a lawyer\" ,\n",
        "    image_path=\"https://static.politifact.com/img/meter-true.jpg\",  # Replace with actual path\n",
        "    device=device\n",
        ")\n",
        "print(result)\n"
      ],
      "metadata": {
        "colab": {
          "base_uri": "https://localhost:8080/"
        },
        "id": "SIK38TeL-bnN",
        "outputId": "a27625aa-1415-44f0-c857-7032d953bb43"
      },
      "execution_count": 8,
      "outputs": [
        {
          "output_type": "stream",
          "name": "stdout",
          "text": [
            "{'prediction': 0, 'confidence': 0.9944514632225037, 'class': 'Fake'}\n",
            "{'prediction': 0, 'confidence': 0.9979324340820312, 'class': 'Fake'}\n"
          ]
        }
      ]
    },
    {
      "cell_type": "code",
      "source": [],
      "metadata": {
        "id": "iXhja4il_K4v"
      },
      "execution_count": 8,
      "outputs": []
    }
  ]
}