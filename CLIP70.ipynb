{
  "nbformat": 4,
  "nbformat_minor": 0,
  "metadata": {
    "colab": {
      "provenance": [],
      "machine_shape": "hm",
      "gpuType": "T4"
    },
    "kernelspec": {
      "name": "python3",
      "display_name": "Python 3"
    },
    "language_info": {
      "name": "python"
    },
    "accelerator": "GPU"
  },
  "cells": [
    {
      "cell_type": "code",
      "source": [
        "import os\n",
        "import pandas as pd\n",
        "import numpy as np\n",
        "import torch\n",
        "from torch.utils.data import Dataset, DataLoader\n",
        "from sklearn.model_selection import train_test_split\n",
        "from sklearn.metrics import accuracy_score, precision_score, recall_score, f1_score, confusion_matrix, classification_report\n",
        "import requests\n",
        "from PIL import Image\n",
        "from io import BytesIO\n",
        "from transformers import CLIPProcessor, CLIPModel\n",
        "import matplotlib.pyplot as plt\n",
        "from tqdm import tqdm\n",
        "import torch.nn as nn\n",
        "\n",
        "# ==============================\n",
        "# Load and Preprocess Dataset\n",
        "# ==============================\n",
        "\n",
        "# Load dataset from CSV\n",
        "data_str = \"/content/politifact_articles_with_images (1).csv\"\n",
        "\n",
        "def load_dataset(file_path):\n",
        "    \"\"\"Load dataset from CSV or Excel.\"\"\"\n",
        "    if file_path.endswith('.csv'):\n",
        "        df = pd.read_csv(file_path)\n",
        "    elif file_path.endswith('.xlsx'):\n",
        "        df = pd.read_excel(file_path)\n",
        "    else:\n",
        "        raise ValueError(\"Unsupported file format. Use CSV or Excel.\")\n",
        "\n",
        "    return df\n",
        "\n",
        "# Preprocess the dataset\n",
        "# Preprocess the dataset\n",
        "def preprocess_dataset(df):\n",
        "    # Label mapping\n",
        "    real_labels = ['true', 'mostly true', 'half true']\n",
        "    fake_labels = ['false', 'mostly false', 'pants on fire']\n",
        "\n",
        "    # Function to map labels to binary\n",
        "    def map_to_binary(rating):\n",
        "        rating = str(rating).strip().lower()\n",
        "        if rating in real_labels:\n",
        "            return 1  # Real news\n",
        "        elif rating in fake_labels:\n",
        "            return 0  # Fake news\n",
        "        else:\n",
        "            return None  # Filter out invalid labels\n",
        "\n",
        "    # Apply label mapping\n",
        "    df['Label'] = df['Rating'].apply(map_to_binary)\n",
        "\n",
        "    # Remove rows with invalid labels\n",
        "    df = df.dropna(subset=['Label'])\n",
        "\n",
        "    # Ensure label type is integer\n",
        "    df['Label'] = df['Label'].astype(int)\n",
        "\n",
        "    return df\n",
        "\n",
        "\n",
        "# Download images\n",
        "def download_images(df, image_dir='./images'):\n",
        "    \"\"\"Download images from URLs and save them locally.\"\"\"\n",
        "    os.makedirs(image_dir, exist_ok=True)\n",
        "    image_paths = []\n",
        "\n",
        "    for idx, row in tqdm(df.iterrows(), total=len(df), desc=\"Downloading images\"):\n",
        "        image_url = row.get('Image URL', None)\n",
        "\n",
        "        if pd.isna(image_url) or image_url is None or image_url == 'N/A' or image_url == 'nan':\n",
        "            image_paths.append(None)\n",
        "            continue\n",
        "\n",
        "        try:\n",
        "            image_filename = f\"{idx}.jpg\"\n",
        "            image_path = os.path.join(image_dir, image_filename)\n",
        "\n",
        "            if not os.path.exists(image_path):\n",
        "                response = requests.get(image_url)\n",
        "                img = Image.open(BytesIO(response.content))\n",
        "                img.save(image_path)\n",
        "\n",
        "            image_paths.append(image_path)\n",
        "        except Exception as e:\n",
        "            print(f\"Error downloading image {image_url}: {e}\")\n",
        "            image_paths.append(None)\n",
        "\n",
        "    df['local_image_path'] = image_paths\n",
        "    return df\n",
        "\n",
        "\n",
        "# ==============================\n",
        "# CLIP Classifier\n",
        "# ==============================\n",
        "\n",
        "class CLIPClassifier(nn.Module):\n",
        "    def __init__(self, clip_model_name=\"openai/clip-vit-base-patch32\", num_classes=2):\n",
        "        super(CLIPClassifier, self).__init__()\n",
        "        self.clip = CLIPModel.from_pretrained(clip_model_name)\n",
        "\n",
        "        # Freeze CLIP parameters\n",
        "        for param in self.clip.parameters():\n",
        "            param.requires_grad = False\n",
        "\n",
        "        hidden_size = self.clip.config.projection_dim\n",
        "\n",
        "        # Classification head\n",
        "        self.classifier = nn.Sequential(\n",
        "            nn.Linear(hidden_size, 512),\n",
        "            nn.ReLU(),\n",
        "            nn.Dropout(0.1),\n",
        "            nn.Linear(512, num_classes)\n",
        "        )\n",
        "\n",
        "    def forward(self, input_ids=None, attention_mask=None, pixel_values=None, return_loss=False, labels=None):\n",
        "        outputs = self.clip(input_ids=input_ids, attention_mask=attention_mask, pixel_values=pixel_values)\n",
        "\n",
        "        text_embeds = outputs.text_embeds\n",
        "        logits = self.classifier(text_embeds)\n",
        "\n",
        "        loss = None\n",
        "        if return_loss and labels is not None:\n",
        "            loss_fct = nn.CrossEntropyLoss()\n",
        "            loss = loss_fct(logits, labels)\n",
        "\n",
        "        return logits, loss\n",
        "\n",
        "\n",
        "# ==============================\n",
        "# PyTorch Dataset\n",
        "# ==============================\n",
        "\n",
        "class FakeNewsDataset(Dataset):\n",
        "    def __init__(self, dataframe, processor, text_column='Claim', label_column='Label', image_column='local_image_path'):\n",
        "        self.dataframe = dataframe\n",
        "        self.processor = processor\n",
        "        self.text_column = text_column\n",
        "        self.label_column = label_column\n",
        "        self.image_column = image_column\n",
        "\n",
        "    def __len__(self):\n",
        "        return len(self.dataframe)\n",
        "\n",
        "    def __getitem__(self, idx):\n",
        "        row = self.dataframe.iloc[idx]\n",
        "\n",
        "        text = row[self.text_column]\n",
        "        label = row[self.label_column]\n",
        "        image_path = row[self.image_column]\n",
        "\n",
        "        if pd.isna(image_path) or image_path is None:\n",
        "            image = Image.new('RGB', (224, 224), color='white')\n",
        "        else:\n",
        "            try:\n",
        "                image = Image.open(image_path).convert('RGB')\n",
        "            except:\n",
        "                image = Image.new('RGB', (224, 224), color='white')\n",
        "\n",
        "        inputs = self.processor(\n",
        "            text=text,\n",
        "            images=image,\n",
        "            return_tensors=\"pt\",\n",
        "            padding=\"max_length\",\n",
        "            truncation=True,\n",
        "            max_length=77\n",
        "        )\n",
        "\n",
        "        inputs = {k: v.squeeze(0) for k, v in inputs.items()}\n",
        "        inputs['labels'] = torch.tensor(label, dtype=torch.long)\n",
        "\n",
        "        return inputs\n",
        "\n",
        "\n",
        "# ==============================\n",
        "# Model Training\n",
        "# ==============================\n",
        "\n",
        "def train_vlm(model, train_loader, val_loader, device, num_epochs=10, learning_rate=5e-5):\n",
        "    model.to(device)\n",
        "    optimizer = torch.optim.AdamW(model.parameters(), lr=learning_rate)\n",
        "    criterion = nn.CrossEntropyLoss()\n",
        "\n",
        "    training_stats = {'train_loss': [], 'val_loss': [], 'val_acc': []}\n",
        "\n",
        "    for epoch in range(num_epochs):\n",
        "        model.train()\n",
        "        total_train_loss = 0\n",
        "\n",
        "        for batch in tqdm(train_loader, desc=f\"Epoch {epoch+1}/{num_epochs} - Training\"):\n",
        "            batch = {k: v.to(device) for k, v in batch.items()}\n",
        "            labels = batch.pop('labels')\n",
        "\n",
        "            logits, _ = model(**batch, return_loss=False)\n",
        "            loss = criterion(logits, labels)\n",
        "\n",
        "            optimizer.zero_grad()\n",
        "            loss.backward()\n",
        "            optimizer.step()\n",
        "\n",
        "            total_train_loss += loss.item()\n",
        "\n",
        "        avg_train_loss = total_train_loss / len(train_loader)\n",
        "        training_stats['train_loss'].append(avg_train_loss)\n",
        "\n",
        "        model.eval()\n",
        "        total_val_loss = 0\n",
        "        all_preds, all_labels = [], []\n",
        "\n",
        "        with torch.no_grad():\n",
        "            for batch in tqdm(val_loader, desc=f\"Epoch {epoch+1}/{num_epochs} - Validation\"):\n",
        "                batch = {k: v.to(device) for k, v in batch.items()}\n",
        "                labels = batch.pop('labels')\n",
        "\n",
        "                logits, _ = model(**batch, return_loss=False)\n",
        "                loss = criterion(logits, labels)\n",
        "\n",
        "                total_val_loss += loss.item()\n",
        "                preds = torch.argmax(logits, dim=1)\n",
        "\n",
        "                all_preds.extend(preds.cpu().numpy())\n",
        "                all_labels.extend(labels.cpu().numpy())\n",
        "\n",
        "        avg_val_loss = total_val_loss / len(val_loader)\n",
        "        val_acc = accuracy_score(all_labels, all_preds)\n",
        "\n",
        "        training_stats['val_loss'].append(avg_val_loss)\n",
        "        training_stats['val_acc'].append(val_acc)\n",
        "\n",
        "        print(f\"Epoch {epoch+1} - Train Loss: {avg_train_loss:.4f}, Val Loss: {avg_val_loss:.4f}, Val Acc: {val_acc:.4f}\")\n",
        "\n",
        "    return model, training_stats\n",
        "\n",
        "\n",
        "# ==============================\n",
        "# Execute Workflow\n",
        "# ==============================\n",
        "\n",
        "# Load and preprocess the dataset\n",
        "df = load_dataset(data_str)\n",
        "df = preprocess_dataset(df)\n",
        "df = download_images(df)\n",
        "\n",
        "# Split dataset\n",
        "train_df, val_df = train_test_split(df, test_size=0.3, random_state=42)\n",
        "\n",
        "# Initialize the model and processor\n",
        "processor = CLIPProcessor.from_pretrained(\"openai/clip-vit-base-patch32\")\n",
        "model = CLIPClassifier()\n",
        "\n",
        "# Create datasets and loaders\n",
        "train_dataset = FakeNewsDataset(train_df, processor)\n",
        "val_dataset = FakeNewsDataset(val_df, processor)\n",
        "\n",
        "train_loader = DataLoader(train_dataset, batch_size=4, shuffle=True)\n",
        "val_loader = DataLoader(val_dataset, batch_size=4, shuffle=False)\n",
        "\n",
        "# Set device\n",
        "device = torch.device(\"cuda\" if torch.cuda.is_available() else \"cpu\")\n",
        "\n",
        "# Train the model\n",
        "model, training_stats = train_vlm(model, train_loader, val_loader, device)\n"
      ],
      "metadata": {
        "id": "pJknavbMZoCq",
        "colab": {
          "base_uri": "https://localhost:8080/"
        },
        "outputId": "822db6fa-f332-4dc9-ade2-55dd2242f0ae"
      },
      "execution_count": 24,
      "outputs": [
        {
          "output_type": "stream",
          "name": "stderr",
          "text": [
            "Downloading images: 100%|██████████| 3600/3600 [00:00<00:00, 23767.39it/s]\n",
            "Epoch 1/10 - Training: 100%|██████████| 630/630 [00:39<00:00, 16.13it/s]\n",
            "Epoch 1/10 - Validation: 100%|██████████| 270/270 [00:16<00:00, 16.43it/s]\n"
          ]
        },
        {
          "output_type": "stream",
          "name": "stdout",
          "text": [
            "Epoch 1 - Train Loss: 0.6716, Val Loss: 0.6367, Val Acc: 0.7583\n"
          ]
        },
        {
          "output_type": "stream",
          "name": "stderr",
          "text": [
            "Epoch 2/10 - Training: 100%|██████████| 630/630 [00:38<00:00, 16.47it/s]\n",
            "Epoch 2/10 - Validation: 100%|██████████| 270/270 [00:16<00:00, 16.71it/s]\n"
          ]
        },
        {
          "output_type": "stream",
          "name": "stdout",
          "text": [
            "Epoch 2 - Train Loss: 0.5913, Val Loss: 0.5477, Val Acc: 0.7593\n"
          ]
        },
        {
          "output_type": "stream",
          "name": "stderr",
          "text": [
            "Epoch 3/10 - Training: 100%|██████████| 630/630 [00:38<00:00, 16.43it/s]\n",
            "Epoch 3/10 - Validation: 100%|██████████| 270/270 [00:16<00:00, 16.73it/s]\n"
          ]
        },
        {
          "output_type": "stream",
          "name": "stdout",
          "text": [
            "Epoch 3 - Train Loss: 0.5201, Val Loss: 0.4946, Val Acc: 0.7741\n"
          ]
        },
        {
          "output_type": "stream",
          "name": "stderr",
          "text": [
            "Epoch 4/10 - Training: 100%|██████████| 630/630 [00:37<00:00, 16.63it/s]\n",
            "Epoch 4/10 - Validation: 100%|██████████| 270/270 [00:16<00:00, 16.60it/s]\n"
          ]
        },
        {
          "output_type": "stream",
          "name": "stdout",
          "text": [
            "Epoch 4 - Train Loss: 0.4844, Val Loss: 0.4715, Val Acc: 0.7750\n"
          ]
        },
        {
          "output_type": "stream",
          "name": "stderr",
          "text": [
            "Epoch 5/10 - Training: 100%|██████████| 630/630 [00:37<00:00, 16.74it/s]\n",
            "Epoch 5/10 - Validation: 100%|██████████| 270/270 [00:15<00:00, 16.88it/s]\n"
          ]
        },
        {
          "output_type": "stream",
          "name": "stdout",
          "text": [
            "Epoch 5 - Train Loss: 0.4648, Val Loss: 0.4611, Val Acc: 0.7778\n"
          ]
        },
        {
          "output_type": "stream",
          "name": "stderr",
          "text": [
            "Epoch 6/10 - Training: 100%|██████████| 630/630 [00:37<00:00, 16.68it/s]\n",
            "Epoch 6/10 - Validation: 100%|██████████| 270/270 [00:15<00:00, 16.99it/s]\n"
          ]
        },
        {
          "output_type": "stream",
          "name": "stdout",
          "text": [
            "Epoch 6 - Train Loss: 0.4526, Val Loss: 0.4513, Val Acc: 0.7806\n"
          ]
        },
        {
          "output_type": "stream",
          "name": "stderr",
          "text": [
            "Epoch 7/10 - Training: 100%|██████████| 630/630 [00:37<00:00, 16.68it/s]\n",
            "Epoch 7/10 - Validation: 100%|██████████| 270/270 [00:16<00:00, 16.70it/s]\n"
          ]
        },
        {
          "output_type": "stream",
          "name": "stdout",
          "text": [
            "Epoch 7 - Train Loss: 0.4426, Val Loss: 0.4494, Val Acc: 0.7815\n"
          ]
        },
        {
          "output_type": "stream",
          "name": "stderr",
          "text": [
            "Epoch 8/10 - Training: 100%|██████████| 630/630 [00:37<00:00, 16.67it/s]\n",
            "Epoch 8/10 - Validation: 100%|██████████| 270/270 [00:16<00:00, 16.85it/s]\n"
          ]
        },
        {
          "output_type": "stream",
          "name": "stdout",
          "text": [
            "Epoch 8 - Train Loss: 0.4357, Val Loss: 0.4475, Val Acc: 0.7796\n"
          ]
        },
        {
          "output_type": "stream",
          "name": "stderr",
          "text": [
            "Epoch 9/10 - Training: 100%|██████████| 630/630 [00:37<00:00, 16.68it/s]\n",
            "Epoch 9/10 - Validation: 100%|██████████| 270/270 [00:16<00:00, 16.80it/s]\n"
          ]
        },
        {
          "output_type": "stream",
          "name": "stdout",
          "text": [
            "Epoch 9 - Train Loss: 0.4278, Val Loss: 0.4486, Val Acc: 0.7769\n"
          ]
        },
        {
          "output_type": "stream",
          "name": "stderr",
          "text": [
            "Epoch 10/10 - Training: 100%|██████████| 630/630 [00:37<00:00, 16.66it/s]\n",
            "Epoch 10/10 - Validation: 100%|██████████| 270/270 [00:16<00:00, 16.75it/s]"
          ]
        },
        {
          "output_type": "stream",
          "name": "stdout",
          "text": [
            "Epoch 10 - Train Loss: 0.4229, Val Loss: 0.4424, Val Acc: 0.7806\n"
          ]
        },
        {
          "output_type": "stream",
          "name": "stderr",
          "text": [
            "\n"
          ]
        }
      ]
    },
    {
      "cell_type": "code",
      "source": [
        "from sklearn.metrics import confusion_matrix, classification_report, accuracy_score\n",
        "import seaborn as sns\n",
        "import matplotlib.pyplot as plt\n",
        "\n",
        "def evaluate_model(model, processor, data_loader, device):\n",
        "    \"\"\"\n",
        "    Evaluate the model and print confusion matrix and metrics.\n",
        "\n",
        "    Args:\n",
        "    - model: Trained CLIP model\n",
        "    - processor: CLIPProcessor for preprocessing\n",
        "    - data_loader: DataLoader for validation/test dataset\n",
        "    - device: Device (CPU or GPU)\n",
        "\n",
        "    Returns:\n",
        "    - Confusion matrix and classification report\n",
        "    \"\"\"\n",
        "    model.eval()\n",
        "    all_preds, all_labels = [], []\n",
        "\n",
        "    with torch.no_grad():\n",
        "        for batch in data_loader:\n",
        "            batch = {k: v.to(device) for k, v in batch.items()}\n",
        "\n",
        "            labels = batch.pop('labels')\n",
        "\n",
        "            # Perform inference\n",
        "            logits, _ = model(**batch, return_loss=False)\n",
        "\n",
        "            # Get predictions\n",
        "            preds = torch.argmax(logits, dim=1)\n",
        "\n",
        "            all_preds.extend(preds.cpu().numpy())\n",
        "            all_labels.extend(labels.cpu().numpy())\n",
        "\n",
        "    # Print accuracy and classification report\n",
        "    acc = accuracy_score(all_labels, all_preds)\n",
        "    print(f\"\\n✅ Accuracy: {acc:.4f}\\n\")\n",
        "\n",
        "    class_report = classification_report(all_labels, all_preds, target_names=[\"Fake\", \"Real\"])\n",
        "    print(\"\\n📊 Classification Report:\\n\")\n",
        "    print(class_report)\n",
        "\n",
        "    # Generate and display confusion matrix\n",
        "    conf_matrix = confusion_matrix(all_labels, all_preds)\n",
        "    plt.figure(figsize=(8, 6))\n",
        "    sns.heatmap(conf_matrix, annot=True, fmt=\"d\", cmap=\"Blues\", xticklabels=[\"Fake\", \"Real\"], yticklabels=[\"Fake\", \"Real\"])\n",
        "    plt.title(\"Confusion Matrix\")\n",
        "    plt.xlabel(\"Predicted Label\")\n",
        "    plt.ylabel(\"True Label\")\n",
        "    plt.show()\n",
        "\n",
        "    return conf_matrix, class_report\n",
        "\n",
        "  # Evaluate the model on the validation set\n",
        "conf_matrix, class_report = evaluate_model(model, processor, val_loader, device)\n",
        "\n"
      ],
      "metadata": {
        "colab": {
          "base_uri": "https://localhost:8080/",
          "height": 836
        },
        "id": "_WH4Ktq-iH7b",
        "outputId": "ee9c2c2d-8ef3-4fe0-a362-4e34de363cc6"
      },
      "execution_count": 50,
      "outputs": [
        {
          "output_type": "stream",
          "name": "stdout",
          "text": [
            "\n",
            "✅ Accuracy: 0.7806\n",
            "\n",
            "\n",
            "📊 Classification Report:\n",
            "\n",
            "              precision    recall  f1-score   support\n",
            "\n",
            "        Fake       0.76      0.79      0.77       513\n",
            "        Real       0.80      0.77      0.79       567\n",
            "\n",
            "    accuracy                           0.78      1080\n",
            "   macro avg       0.78      0.78      0.78      1080\n",
            "weighted avg       0.78      0.78      0.78      1080\n",
            "\n"
          ]
        },
        {
          "output_type": "display_data",
          "data": {
            "text/plain": [
              "<Figure size 800x600 with 2 Axes>"
            ],
            "image/png": "[encoded data removed]"
          },
          "metadata": {}
        }
      ]
    },
    {
      "cell_type": "code",
      "source": [
        "# ==============================\n",
        "# Save the Trained Model\n",
        "# ==============================\n",
        "model_save_path = \"./clip_fake_news_classifier1.pth\"\n",
        "\n",
        "# Save the model state_dict\n",
        "torch.save(model.state_dict(), model_save_path)\n",
        "print(f\"Model saved at {model_save_path}\")\n"
      ],
      "metadata": {
        "colab": {
          "base_uri": "https://localhost:8080/"
        },
        "id": "AloQBt6bYDX4",
        "outputId": "1871258c-21a2-4b9f-b678-e820525a6a81"
      },
      "execution_count": 25,
      "outputs": [
        {
          "output_type": "stream",
          "name": "stdout",
          "text": [
            "Model saved at ./clip_fake_news_classifier1.pth\n"
          ]
        }
      ]
    },
    {
      "cell_type": "code",
      "source": [
        "# ==============================\n",
        "# Load the Saved Model\n",
        "# ==============================\n",
        "model_load_path = \"./clip_fake_news_classifier1.pth\"\n",
        "\n",
        "# Initialize the model\n",
        "model = CLIPClassifier()\n",
        "model.load_state_dict(torch.load(model_load_path))\n",
        "model.to(device)\n",
        "model.eval()\n",
        "\n",
        "print(f\"Model loaded from {model_load_path}\")\n"
      ],
      "metadata": {
        "id": "g2ig6YXS1_HN",
        "colab": {
          "base_uri": "https://localhost:8080/"
        },
        "outputId": "9fa33a7a-e89c-437c-ebc4-e12aafd6d6d7"
      },
      "execution_count": 26,
      "outputs": [
        {
          "output_type": "stream",
          "name": "stdout",
          "text": [
            "Model loaded from ./clip_fake_news_classifier1.pth\n"
          ]
        }
      ]
    },
    {
      "cell_type": "code",
      "source": [
        "def predict(model, processor, text=None, image_path=None, device='cpu'):\n",
        "    \"\"\"\n",
        "    Perform inference on a single text, image, or both.\n",
        "\n",
        "    Args:\n",
        "    - model: Trained CLIP model\n",
        "    - processor: CLIPProcessor for preprocessing\n",
        "    - text: Claim text (str) [Optional]\n",
        "    - image_path: Path to the image file (str) [Optional]\n",
        "    - device: Device (CPU or GPU)\n",
        "\n",
        "    Returns:\n",
        "    - Prediction label (0 = Fake, 1 = Real) with confidence score\n",
        "    \"\"\"\n",
        "    # Ensure at least one input is provided\n",
        "    if not text and not image_path:\n",
        "        raise ValueError(\"Either text or image path must be provided.\")\n",
        "\n",
        "    # Prepare image or use placeholder\n",
        "    if image_path and os.path.exists(image_path) and image_path != 'N/A':\n",
        "        image = Image.open(image_path).convert(\"RGB\")\n",
        "    elif image_path:\n",
        "        print(f\"Image not found: {image_path}. Using placeholder.\")\n",
        "        image = Image.new('RGB', (224, 224), color='white')\n",
        "    else:\n",
        "        image = None  # No image provided\n",
        "\n",
        "    # --- Inference Logic ---\n",
        "    with torch.no_grad():\n",
        "        if text and image:\n",
        "            # Text + Image Inference\n",
        "            inputs = processor(\n",
        "                text=text,\n",
        "                images=image,\n",
        "                return_tensors=\"pt\",\n",
        "                padding=\"max_length\",\n",
        "                truncation=True,\n",
        "                max_length=77\n",
        "            ).to(device)\n",
        "\n",
        "            logits, _ = model(**inputs, return_loss=False)\n",
        "\n",
        "        elif text:\n",
        "            # Text-Only Inference\n",
        "            inputs = processor(\n",
        "                text=text,\n",
        "                return_tensors=\"pt\",\n",
        "                padding=\"max_length\",\n",
        "                truncation=True,\n",
        "                max_length=77\n",
        "            ).to(device)\n",
        "\n",
        "            text_features = model.clip.get_text_features(**inputs)\n",
        "            logits = model.classifier(text_features)\n",
        "\n",
        "        elif image:\n",
        "            # Image-Only Inference\n",
        "            inputs = processor(\n",
        "                images=image,\n",
        "                return_tensors=\"pt\"\n",
        "            ).to(device)\n",
        "\n",
        "            image_features = model.clip.get_image_features(**inputs)\n",
        "            logits = model.classifier(image_features)\n",
        "\n",
        "        else:\n",
        "            raise ValueError(\"Both text and image are missing!\")\n",
        "\n",
        "    # Get predictions and confidence scores\n",
        "    probs = torch.softmax(logits, dim=1)\n",
        "    pred_label = torch.argmax(probs, dim=1).item()\n",
        "    confidence = probs[0][pred_label].item()\n",
        "\n",
        "    label_str = \"Real\" if pred_label == 1 else \"Fake\"\n",
        "    return label_str, confidence\n"
      ],
      "metadata": {
        "id": "ZM_heRFta3BI"
      },
      "execution_count": 39,
      "outputs": []
    },
    {
      "cell_type": "code",
      "source": [
        "text = \"NASA confirmed water on Mars.\"\n",
        "image_path = \"./images/0.jpg\"\n",
        "\n",
        "label, confidence = predict(model, processor, text=text, image_path=image_path, device=device)\n",
        "print(f\"Prediction: {label}, Confidence: {confidence:.4f}\")\n"
      ],
      "metadata": {
        "colab": {
          "base_uri": "https://localhost:8080/"
        },
        "id": "SIK38TeL-bnN",
        "outputId": "06ac9694-ffe4-438e-e438-39aef7ac06c6"
      },
      "execution_count": 47,
      "outputs": [
        {
          "output_type": "stream",
          "name": "stdout",
          "text": [
            "Image not found: ./images/0.jpg. Using placeholder.\n",
            "Prediction: Fake, Confidence: 0.9285\n"
          ]
        }
      ]
    },
    {
      "cell_type": "code",
      "source": [
        "text = \"The COVID-19 vaccine causes infertility.\"\n",
        "\n",
        "label, confidence = predict(model, processor, text=text, device=device)\n",
        "print(f\"Text-Only Prediction: {label}, Confidence: {confidence:.4f}\")\n"
      ],
      "metadata": {
        "id": "iXhja4il_K4v",
        "colab": {
          "base_uri": "https://localhost:8080/"
        },
        "outputId": "4be5ae93-27da-46a1-ea0a-c61dcf640a7b"
      },
      "execution_count": 41,
      "outputs": [
        {
          "output_type": "stream",
          "name": "stdout",
          "text": [
            "Text-Only Prediction: Fake, Confidence: 0.9999\n"
          ]
        }
      ]
    },
    {
      "cell_type": "code",
      "source": [
        "image_path = \"/content/images/1.jpg\"\n",
        "\n",
        "label, confidence = predict(model, processor, image_path=image_path, device=device)\n",
        "print(f\"Image-Only Prediction: {label}, Confidence: {confidence:.4f}\")\n"
      ],
      "metadata": {
        "colab": {
          "base_uri": "https://localhost:8080/"
        },
        "id": "xoBz3IH7gxn5",
        "outputId": "db33fe8b-7359-4070-af0a-5e5024092742"
      },
      "execution_count": 44,
      "outputs": [
        {
          "output_type": "stream",
          "name": "stdout",
          "text": [
            "Image-Only Prediction: Real, Confidence: 0.9718\n"
          ]
        }
      ]
    },
    {
      "cell_type": "code",
      "source": [],
      "metadata": {
        "id": "XcGdktILhIlW"
      },
      "execution_count": null,
      "outputs": []
    }
  ]
}